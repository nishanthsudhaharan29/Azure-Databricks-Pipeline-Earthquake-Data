{
 "cells": [
  {
   "cell_type": "code",
   "execution_count": 0,
   "metadata": {
    "application/vnd.databricks.v1+cell": {
     "cellMetadata": {
      "byteLimit": 2048000,
      "rowLimit": 10000
     },
     "inputWidgets": {},
     "nuid": "9dff6b7c-a0dc-4476-abcc-111803110c5d",
     "showTitle": false,
     "tableResultSettingsMap": {},
     "title": ""
    }
   },
   "outputs": [],
   "source": [
    "import requests\n",
    "import json\n",
    "from datetime import date, timedelta\n",
    "\n",
    "# API documentation: https://earthquake.usgs.gov/fdsnws/event/1/"
   ]
  },
  {
   "cell_type": "code",
   "execution_count": 0,
   "metadata": {
    "application/vnd.databricks.v1+cell": {
     "cellMetadata": {
      "byteLimit": 2048000,
      "rowLimit": 10000
     },
     "inputWidgets": {},
     "nuid": "81d943f4-0c76-4dec-9ff1-83f82a846f2e",
     "showTitle": false,
     "tableResultSettingsMap": {},
     "title": ""
    }
   },
   "outputs": [
    {
     "output_type": "stream",
     "name": "stdout",
     "output_type": "stream",
     "text": [
      "Wrote 327227 bytes.\nData successfully saved to abfss://bronze@earthquakedatalake.dfs.core.windows.net//2025-05-02_earthquake_data.json\n"
     ]
    }
   ],
   "source": [
    "# mount ADLS\n",
    "tiers = ['bronze','silver','gold']\n",
    "adls_paths = {tier: f\"abfss://{tier}@earthquakedatalake.dfs.core.windows.net/\" for tier in tiers}\n",
    "# This creates the dictionary with the three tiers as keys and their paths as values repectively\n",
    "bronze_adls = adls_paths['bronze']\n",
    "silver_adls = adls_paths['silver']\n",
    "gold_adls = adls_paths['gold']\n",
    "# list the files in the ADLS\n",
    "dbutils.fs.ls(bronze_adls)\n",
    "dbutils.fs.ls(silver_adls)\n",
    "dbutils.fs.ls(gold_adls)\n",
    "\n",
    "# url format: https://earthquake.usgs.gov/fdsnws/event/1/query?format=geojson&starttime=2014-01-01&endtime=2014-01-02\n",
    "# we need the previous date and the current date to pull from the API url\n",
    "start_date = date.today() - timedelta(days=1)\n",
    "end_date = date.today()\n",
    "\n",
    "# construct the API URL with the start and end date\n",
    "url = f\"https://earthquake.usgs.gov/fdsnws/event/1/query?format=geojson&starttime={start_date}&endtime={end_date}\"\n",
    "\n",
    "try:\n",
    "    #request to fetch data from the API\n",
    "    response = requests.get(url)\n",
    "    # check if the request was successful\n",
    "    response.raise_for_status()\n",
    "    # check_for_status() raises an error for bad responses\n",
    "    data = response.json().get('features', [])\n",
    "    if not data:\n",
    "        print(\"No data returned for the specified date range\")\n",
    "    else:\n",
    "        # specify the adls path to save data\n",
    "        adls_path = f\"{bronze_adls}/{start_date}_earthquake_data.json\"\n",
    "        # save the data to the adls path\n",
    "        json_data = json.dumps(data, indent = 4)\n",
    "        dbutils.fs.put(adls_path, json_data, overwrite = True)\n",
    "        print(f\"Data successfully saved to {adls_path}\")\n",
    "except requests.exceptions.RequestException as e:\n",
    "    print(f\"Error fetching data from API: {e}\")"
   ]
  },
  {
   "cell_type": "code",
   "execution_count": 0,
   "metadata": {
    "application/vnd.databricks.v1+cell": {
     "cellMetadata": {
      "byteLimit": 2048000,
      "rowLimit": 10000
     },
     "inputWidgets": {},
     "nuid": "1a93f438-4c2b-439b-a4ea-1f29f84b2e51",
     "showTitle": false,
     "tableResultSettingsMap": {},
     "title": ""
    }
   },
   "outputs": [],
   "source": [
    "# define output variables\n",
    "output_data = {'start_date': start_date.isoformat(),\n",
    "               'end_date': end_date.isoformat(),\n",
    "               'bronze_adls': bronze_adls,\n",
    "               'silver_adls': silver_adls,\n",
    "               'gold_adls': gold_adls }\n",
    "dbutils.jobs.taskValues.set(key = 'bronze_output', value = output_data)"
   ]
  },
  {
   "cell_type": "code",
   "execution_count": 0,
   "metadata": {
    "application/vnd.databricks.v1+cell": {
     "cellMetadata": {},
     "inputWidgets": {},
     "nuid": "92f2cf87-bcfb-4828-a0fe-0760660ac573",
     "showTitle": false,
     "tableResultSettingsMap": {},
     "title": ""
    }
   },
   "outputs": [],
   "source": []
  }
 ],
 "metadata": {
  "application/vnd.databricks.v1+notebook": {
   "computePreferences": null,
   "dashboards": [],
   "environmentMetadata": {
    "base_environment": "",
    "environment_version": "2"
   },
   "inputWidgetPreferences": null,
   "language": "python",
   "notebookMetadata": {
    "pythonIndentUnit": 4
   },
   "notebookName": "Bronze Notebook",
   "widgets": {}
  },
  "language_info": {
   "name": "python"
  }
 },
 "nbformat": 4,
 "nbformat_minor": 0
}