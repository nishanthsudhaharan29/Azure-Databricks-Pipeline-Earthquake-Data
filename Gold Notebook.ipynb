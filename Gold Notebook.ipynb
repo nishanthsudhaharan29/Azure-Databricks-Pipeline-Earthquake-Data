{
 "cells": [
  {
   "cell_type": "code",
   "execution_count": 0,
   "metadata": {
    "application/vnd.databricks.v1+cell": {
     "cellMetadata": {},
     "inputWidgets": {},
     "nuid": "dc8ef706-442c-4c89-9c1a-206732ff529d",
     "showTitle": false,
     "tableResultSettingsMap": {},
     "title": ""
    }
   },
   "outputs": [],
   "source": [
    "# retrieve the output parameters from the bronze and silver notebooks\n",
    "bronze_output = dbutils.jobs.taskValues.get(taskKey= 'bronze', key= 'bronze_output')\n",
    "silver_path = dbutils.jobs.taskValues.get(taskKey= 'silver', key= 'silver_output')\n",
    "# retrieve individual parameters\n",
    "start_date = bronze_output.get('start_date','')\n",
    "silver_adls = bronze_output.get('silver_adls','')\n",
    "gold_adls = bronze_output.get('gold_adls','')\n",
    "# display the parameters\n",
    "print(f\"Start Date: {start_date}\")\n",
    "print(f\"Silver Path: {silver_path}\")\n",
    "print(f\"Gold ADLS: {gold_adls}\")"
   ]
  },
  {
   "cell_type": "code",
   "execution_count": 0,
   "metadata": {
    "application/vnd.databricks.v1+cell": {
     "cellMetadata": {
      "byteLimit": 2048000,
      "rowLimit": 10000
     },
     "inputWidgets": {},
     "nuid": "9a5b30c1-8ad3-4302-84c8-0c9cf9e4c78c",
     "showTitle": false,
     "tableResultSettingsMap": {},
     "title": ""
    }
   },
   "outputs": [],
   "source": [
    "from pyspark.sql.functions import *\n",
    "from pyspark.sql.types import *\n",
    "from datetime import date, timedelta\n",
    "import reverse_geocoder as rg"
   ]
  },
  {
   "cell_type": "code",
   "execution_count": 0,
   "metadata": {
    "application/vnd.databricks.v1+cell": {
     "cellMetadata": {
      "byteLimit": 2048000,
      "rowLimit": 10000
     },
     "inputWidgets": {},
     "nuid": "914e0d64-5064-4113-b265-740cae8ce5fa",
     "showTitle": false,
     "tableResultSettingsMap": {},
     "title": ""
    }
   },
   "outputs": [],
   "source": [
    "# read the parquet data from the silver ADLS\n",
    "df = spark.read\\\n",
    "    .format('parquet')\\\n",
    "        .load(silver_path)"
   ]
  },
  {
   "cell_type": "code",
   "execution_count": 0,
   "metadata": {
    "application/vnd.databricks.v1+cell": {
     "cellMetadata": {
      "byteLimit": 2048000,
      "rowLimit": 10000
     },
     "inputWidgets": {},
     "nuid": "1a5fafba-7900-4e0e-9802-64d9a84f9839",
     "showTitle": false,
     "tableResultSettingsMap": {},
     "title": ""
    }
   },
   "outputs": [],
   "source": [
    "# python function to get the country code frm the coordinates\n",
    "\"\"\"\n",
    "Retrieve the country code for a given latitude and longitude.\n",
    "\n",
    "Parameters:\n",
    "lat (float or str): Latitude of the location.\n",
    "lon (float or str): Longitude of the location.\n",
    "\n",
    "Returns:\n",
    "str: Country code of the location, retrieved using the reverse geocoding API.\n",
    "\n",
    "Example:\n",
    ">>> get_country_details(48.8588443, 2.2943506)\n",
    "'FR'\n",
    "\"\"\"\n",
    "def get_country_code(lat, lon):\n",
    "    try:\n",
    "        coordinates = (float(lat), float(lon))\n",
    "        result = rg.search(coordinates)[0].get('cc')\n",
    "        print(f\"Processed coordinates: {coordinates} -> {result}\")\n",
    "        return result\n",
    "    except Exception as e:\n",
    "        print(f\"Error processing coordinates: {lat}, {lon} -> {str(e)}\")\n",
    "        return None"
   ]
  },
  {
   "cell_type": "code",
   "execution_count": 0,
   "metadata": {
    "application/vnd.databricks.v1+cell": {
     "cellMetadata": {
      "byteLimit": 2048000,
      "rowLimit": 10000
     },
     "inputWidgets": {},
     "nuid": "35129229-38d8-45a5-9eac-bb1c36693fc2",
     "showTitle": false,
     "tableResultSettingsMap": {},
     "title": ""
    }
   },
   "outputs": [],
   "source": [
    "## convert the python function to a udf\n",
    "get_country_code_udf = udf(get_country_code, StringType())"
   ]
  },
  {
   "cell_type": "code",
   "execution_count": 0,
   "metadata": {
    "application/vnd.databricks.v1+cell": {
     "cellMetadata": {
      "byteLimit": 2048000,
      "rowLimit": 10000
     },
     "inputWidgets": {},
     "nuid": "a580004d-08b1-426a-9343-5be54128c7f5",
     "showTitle": false,
     "tableResultSettingsMap": {},
     "title": ""
    }
   },
   "outputs": [],
   "source": [
    "# create a new column with the country code\n",
    "df = df.withColumn('country_code', \\\n",
    "    get_country_code_udf(col('latitude'), col('longitude')))"
   ]
  },
  {
   "cell_type": "code",
   "execution_count": 0,
   "metadata": {
    "application/vnd.databricks.v1+cell": {
     "cellMetadata": {
      "byteLimit": 2048000,
      "rowLimit": 10000
     },
     "inputWidgets": {},
     "nuid": "2883e92b-c8ff-4574-9eb7-c0b13bac9beb",
     "showTitle": false,
     "tableResultSettingsMap": {},
     "title": ""
    }
   },
   "outputs": [
    {
     "output_type": "stream",
     "name": "stdout",
     "output_type": "stream",
     "text": [
      "root\n |-- id: string (nullable = true)\n |-- longitude: double (nullable = true)\n |-- latitude: double (nullable = true)\n |-- elevation: double (nullable = true)\n |-- title: string (nullable = true)\n |-- place_description: string (nullable = true)\n |-- sig: long (nullable = true)\n |-- mag: double (nullable = true)\n |-- magType: string (nullable = true)\n |-- time: timestamp (nullable = true)\n |-- updated: timestamp (nullable = true)\n |-- country_code: string (nullable = true)\n\n"
     ]
    }
   ],
   "source": [
    "df.printSchema()"
   ]
  },
  {
   "cell_type": "code",
   "execution_count": 0,
   "metadata": {
    "application/vnd.databricks.v1+cell": {
     "cellMetadata": {
      "byteLimit": 2048000,
      "rowLimit": 10000
     },
     "inputWidgets": {},
     "nuid": "3725f281-7b26-4e0f-b7f7-08ffe314e560",
     "showTitle": false,
     "tableResultSettingsMap": {},
     "title": ""
    }
   },
   "outputs": [
    {
     "output_type": "display_data",
     "data": {
      "text/html": [
       "<style scoped>\n",
       "  .table-result-container {\n",
       "    max-height: 300px;\n",
       "    overflow: auto;\n",
       "  }\n",
       "  table, th, td {\n",
       "    border: 1px solid black;\n",
       "    border-collapse: collapse;\n",
       "  }\n",
       "  th, td {\n",
       "    padding: 5px;\n",
       "  }\n",
       "  th {\n",
       "    text-align: left;\n",
       "  }\n",
       "</style><div class='table-result-container'><table class='table-result'><thead style='background-color: white'><tr><th>id</th><th>longitude</th><th>latitude</th><th>elevation</th><th>title</th><th>place_description</th><th>sig</th><th>mag</th><th>magType</th><th>time</th><th>updated</th><th>country_code</th></tr></thead><tbody><tr><td>ci41143408</td><td>-116.4486667</td><td>34.31</td><td>8.73</td><td>M 1.2 - 22 km N of Yucca Valley, CA</td><td>22 km N of Yucca Valley, CA</td><td>20</td><td>1.15</td><td>ml</td><td>2025-05-02T23:43:19.52Z</td><td>2025-05-03T00:01:19.489Z</td><td>US</td></tr><tr><td>ak0255m5hvxv</td><td>-152.9035</td><td>60.3</td><td>120.4</td><td>M 1.6 - 73 km WNW of Ninilchik, Alaska</td><td>73 km WNW of Ninilchik, Alaska</td><td>39</td><td>1.6</td><td>ml</td><td>2025-05-02T23:40:01.794Z</td><td>2025-05-02T23:42:43.527Z</td><td>US</td></tr><tr><td>ak0255m5cfgq</td><td>-150.5436</td><td>60.5389</td><td>13.8</td><td>M 1.6 - 12 km E of Sterling, Alaska</td><td>12 km E of Sterling, Alaska</td><td>39</td><td>1.6</td><td>ml</td><td>2025-05-02T23:14:55.463Z</td><td>2025-05-02T23:16:59.634Z</td><td>US</td></tr><tr><td>hv74664712</td><td>-155.298833333333</td><td>19.9691666666667</td><td>31.0</td><td>M 3.6 - 6 km WSW of Laupāhoehoe, Hawaii</td><td>6 km WSW of Laupāhoehoe, Hawaii</td><td>223</td><td>3.58</td><td>ml</td><td>2025-05-02T22:59:40.4Z</td><td>2025-05-03T00:52:51.825Z</td><td>US</td></tr><tr><td>ak0255m4xbr6</td><td>-150.5616</td><td>60.546</td><td>8.2</td><td>M 1.7 - 11 km E of Sterling, Alaska</td><td>11 km E of Sterling, Alaska</td><td>44</td><td>1.7</td><td>ml</td><td>2025-05-02T22:44:08.984Z</td><td>2025-05-02T22:46:04.534Z</td><td>US</td></tr></tbody></table></div>"
      ]
     },
     "metadata": {
      "application/vnd.databricks.v1+output": {
       "addedWidgets": {},
       "aggData": [],
       "aggError": "",
       "aggOverflow": false,
       "aggSchema": [],
       "aggSeriesLimitReached": false,
       "aggType": "",
       "arguments": {},
       "columnCustomDisplayInfos": {},
       "data": [
        [
         "ci41143408",
         -116.4486667,
         34.31,
         8.73,
         "M 1.2 - 22 km N of Yucca Valley, CA",
         "22 km N of Yucca Valley, CA",
         20,
         1.15,
         "ml",
         "2025-05-02T23:43:19.52Z",
         "2025-05-03T00:01:19.489Z",
         "US"
        ],
        [
         "ak0255m5hvxv",
         -152.9035,
         60.3,
         120.4,
         "M 1.6 - 73 km WNW of Ninilchik, Alaska",
         "73 km WNW of Ninilchik, Alaska",
         39,
         1.6,
         "ml",
         "2025-05-02T23:40:01.794Z",
         "2025-05-02T23:42:43.527Z",
         "US"
        ],
        [
         "ak0255m5cfgq",
         -150.5436,
         60.5389,
         13.8,
         "M 1.6 - 12 km E of Sterling, Alaska",
         "12 km E of Sterling, Alaska",
         39,
         1.6,
         "ml",
         "2025-05-02T23:14:55.463Z",
         "2025-05-02T23:16:59.634Z",
         "US"
        ],
        [
         "hv74664712",
         -155.298833333333,
         19.9691666666667,
         31.0,
         "M 3.6 - 6 km WSW of Laupāhoehoe, Hawaii",
         "6 km WSW of Laupāhoehoe, Hawaii",
         223,
         3.58,
         "ml",
         "2025-05-02T22:59:40.4Z",
         "2025-05-03T00:52:51.825Z",
         "US"
        ],
        [
         "ak0255m4xbr6",
         -150.5616,
         60.546,
         8.2,
         "M 1.7 - 11 km E of Sterling, Alaska",
         "11 km E of Sterling, Alaska",
         44,
         1.7,
         "ml",
         "2025-05-02T22:44:08.984Z",
         "2025-05-02T22:46:04.534Z",
         "US"
        ]
       ],
       "datasetInfos": [],
       "dbfsResultPath": null,
       "isJsonSchema": true,
       "metadata": {},
       "overflow": false,
       "plotOptions": {
        "customPlotOptions": {},
        "displayType": "table",
        "pivotAggregation": null,
        "pivotColumns": null,
        "xColumns": null,
        "yColumns": null
       },
       "removedWidgets": [],
       "schema": [
        {
         "metadata": "{}",
         "name": "id",
         "type": "\"string\""
        },
        {
         "metadata": "{}",
         "name": "longitude",
         "type": "\"double\""
        },
        {
         "metadata": "{}",
         "name": "latitude",
         "type": "\"double\""
        },
        {
         "metadata": "{}",
         "name": "elevation",
         "type": "\"double\""
        },
        {
         "metadata": "{}",
         "name": "title",
         "type": "\"string\""
        },
        {
         "metadata": "{}",
         "name": "place_description",
         "type": "\"string\""
        },
        {
         "metadata": "{}",
         "name": "sig",
         "type": "\"long\""
        },
        {
         "metadata": "{}",
         "name": "mag",
         "type": "\"double\""
        },
        {
         "metadata": "{}",
         "name": "magType",
         "type": "\"string\""
        },
        {
         "metadata": "{}",
         "name": "time",
         "type": "\"timestamp\""
        },
        {
         "metadata": "{}",
         "name": "updated",
         "type": "\"timestamp\""
        },
        {
         "metadata": "{}",
         "name": "country_code",
         "type": "\"string\""
        }
       ],
       "type": "table"
      }
     },
     "output_type": "display_data"
    }
   ],
   "source": [
    "df.limit(5).display()"
   ]
  },
  {
   "cell_type": "code",
   "execution_count": 0,
   "metadata": {
    "application/vnd.databricks.v1+cell": {
     "cellMetadata": {
      "byteLimit": 2048000,
      "rowLimit": 10000
     },
     "inputWidgets": {},
     "nuid": "e01e55e9-2e4b-4003-a458-af08c62bf251",
     "showTitle": false,
     "tableResultSettingsMap": {},
     "title": ""
    }
   },
   "outputs": [],
   "source": [
    "# convert 'sig' into a categorical column\n",
    "df = df.withColumn(\n",
    "    'significance_category',\n",
    "    when(col('sig') < 100, lit('Low'))\n",
    "    .when((col('sig') >= 100) & (col('sig') < 500), lit('Moderate'))\n",
    "    .otherwise(lit('High'))\n",
    ")"
   ]
  },
  {
   "cell_type": "code",
   "execution_count": 0,
   "metadata": {
    "application/vnd.databricks.v1+cell": {
     "cellMetadata": {
      "byteLimit": 2048000,
      "rowLimit": 10000
     },
     "inputWidgets": {},
     "nuid": "05fa1155-a843-4cb8-b7cc-3ce318891b06",
     "showTitle": false,
     "tableResultSettingsMap": {},
     "title": ""
    }
   },
   "outputs": [
    {
     "output_type": "display_data",
     "data": {
      "text/html": [
       "<style scoped>\n",
       "  .table-result-container {\n",
       "    max-height: 300px;\n",
       "    overflow: auto;\n",
       "  }\n",
       "  table, th, td {\n",
       "    border: 1px solid black;\n",
       "    border-collapse: collapse;\n",
       "  }\n",
       "  th, td {\n",
       "    padding: 5px;\n",
       "  }\n",
       "  th {\n",
       "    text-align: left;\n",
       "  }\n",
       "</style><div class='table-result-container'><table class='table-result'><thead style='background-color: white'><tr><th>id</th><th>longitude</th><th>latitude</th><th>elevation</th><th>title</th><th>place_description</th><th>sig</th><th>mag</th><th>magType</th><th>time</th><th>updated</th><th>country_code</th><th>significance_category</th></tr></thead><tbody><tr><td>ci41143408</td><td>-116.4486667</td><td>34.31</td><td>8.73</td><td>M 1.2 - 22 km N of Yucca Valley, CA</td><td>22 km N of Yucca Valley, CA</td><td>20</td><td>1.15</td><td>ml</td><td>2025-05-02T23:43:19.52Z</td><td>2025-05-03T00:01:19.489Z</td><td>US</td><td>Low</td></tr><tr><td>ak0255m5hvxv</td><td>-152.9035</td><td>60.3</td><td>120.4</td><td>M 1.6 - 73 km WNW of Ninilchik, Alaska</td><td>73 km WNW of Ninilchik, Alaska</td><td>39</td><td>1.6</td><td>ml</td><td>2025-05-02T23:40:01.794Z</td><td>2025-05-02T23:42:43.527Z</td><td>US</td><td>Low</td></tr><tr><td>ak0255m5cfgq</td><td>-150.5436</td><td>60.5389</td><td>13.8</td><td>M 1.6 - 12 km E of Sterling, Alaska</td><td>12 km E of Sterling, Alaska</td><td>39</td><td>1.6</td><td>ml</td><td>2025-05-02T23:14:55.463Z</td><td>2025-05-02T23:16:59.634Z</td><td>US</td><td>Low</td></tr><tr><td>hv74664712</td><td>-155.298833333333</td><td>19.9691666666667</td><td>31.0</td><td>M 3.6 - 6 km WSW of Laupāhoehoe, Hawaii</td><td>6 km WSW of Laupāhoehoe, Hawaii</td><td>223</td><td>3.58</td><td>ml</td><td>2025-05-02T22:59:40.4Z</td><td>2025-05-03T00:52:51.825Z</td><td>US</td><td>Moderate</td></tr><tr><td>ak0255m4xbr6</td><td>-150.5616</td><td>60.546</td><td>8.2</td><td>M 1.7 - 11 km E of Sterling, Alaska</td><td>11 km E of Sterling, Alaska</td><td>44</td><td>1.7</td><td>ml</td><td>2025-05-02T22:44:08.984Z</td><td>2025-05-02T22:46:04.534Z</td><td>US</td><td>Low</td></tr></tbody></table></div>"
      ]
     },
     "metadata": {
      "application/vnd.databricks.v1+output": {
       "addedWidgets": {},
       "aggData": [],
       "aggError": "",
       "aggOverflow": false,
       "aggSchema": [],
       "aggSeriesLimitReached": false,
       "aggType": "",
       "arguments": {},
       "columnCustomDisplayInfos": {},
       "data": [
        [
         "ci41143408",
         -116.4486667,
         34.31,
         8.73,
         "M 1.2 - 22 km N of Yucca Valley, CA",
         "22 km N of Yucca Valley, CA",
         20,
         1.15,
         "ml",
         "2025-05-02T23:43:19.52Z",
         "2025-05-03T00:01:19.489Z",
         "US",
         "Low"
        ],
        [
         "ak0255m5hvxv",
         -152.9035,
         60.3,
         120.4,
         "M 1.6 - 73 km WNW of Ninilchik, Alaska",
         "73 km WNW of Ninilchik, Alaska",
         39,
         1.6,
         "ml",
         "2025-05-02T23:40:01.794Z",
         "2025-05-02T23:42:43.527Z",
         "US",
         "Low"
        ],
        [
         "ak0255m5cfgq",
         -150.5436,
         60.5389,
         13.8,
         "M 1.6 - 12 km E of Sterling, Alaska",
         "12 km E of Sterling, Alaska",
         39,
         1.6,
         "ml",
         "2025-05-02T23:14:55.463Z",
         "2025-05-02T23:16:59.634Z",
         "US",
         "Low"
        ],
        [
         "hv74664712",
         -155.298833333333,
         19.9691666666667,
         31.0,
         "M 3.6 - 6 km WSW of Laupāhoehoe, Hawaii",
         "6 km WSW of Laupāhoehoe, Hawaii",
         223,
         3.58,
         "ml",
         "2025-05-02T22:59:40.4Z",
         "2025-05-03T00:52:51.825Z",
         "US",
         "Moderate"
        ],
        [
         "ak0255m4xbr6",
         -150.5616,
         60.546,
         8.2,
         "M 1.7 - 11 km E of Sterling, Alaska",
         "11 km E of Sterling, Alaska",
         44,
         1.7,
         "ml",
         "2025-05-02T22:44:08.984Z",
         "2025-05-02T22:46:04.534Z",
         "US",
         "Low"
        ]
       ],
       "datasetInfos": [],
       "dbfsResultPath": null,
       "isJsonSchema": true,
       "metadata": {},
       "overflow": false,
       "plotOptions": {
        "customPlotOptions": {},
        "displayType": "table",
        "pivotAggregation": null,
        "pivotColumns": null,
        "xColumns": null,
        "yColumns": null
       },
       "removedWidgets": [],
       "schema": [
        {
         "metadata": "{}",
         "name": "id",
         "type": "\"string\""
        },
        {
         "metadata": "{}",
         "name": "longitude",
         "type": "\"double\""
        },
        {
         "metadata": "{}",
         "name": "latitude",
         "type": "\"double\""
        },
        {
         "metadata": "{}",
         "name": "elevation",
         "type": "\"double\""
        },
        {
         "metadata": "{}",
         "name": "title",
         "type": "\"string\""
        },
        {
         "metadata": "{}",
         "name": "place_description",
         "type": "\"string\""
        },
        {
         "metadata": "{}",
         "name": "sig",
         "type": "\"long\""
        },
        {
         "metadata": "{}",
         "name": "mag",
         "type": "\"double\""
        },
        {
         "metadata": "{}",
         "name": "magType",
         "type": "\"string\""
        },
        {
         "metadata": "{}",
         "name": "time",
         "type": "\"timestamp\""
        },
        {
         "metadata": "{}",
         "name": "updated",
         "type": "\"timestamp\""
        },
        {
         "metadata": "{}",
         "name": "country_code",
         "type": "\"string\""
        },
        {
         "metadata": "{}",
         "name": "significance_category",
         "type": "\"string\""
        }
       ],
       "type": "table"
      }
     },
     "output_type": "display_data"
    }
   ],
   "source": [
    "df.limit(5).display()"
   ]
  },
  {
   "cell_type": "code",
   "execution_count": 0,
   "metadata": {
    "application/vnd.databricks.v1+cell": {
     "cellMetadata": {
      "byteLimit": 2048000,
      "rowLimit": 10000
     },
     "inputWidgets": {},
     "nuid": "d23275f6-b105-4b2c-8b65-8c64fdc8c662",
     "showTitle": false,
     "tableResultSettingsMap": {},
     "title": ""
    }
   },
   "outputs": [],
   "source": [
    "# save the file to the gold ADLS\n",
    "write_path = f\"{gold_adls}/{start_date}_earthquake_events\"\n",
    "df.write \\\n",
    "    .format('parquet') \\\n",
    "        .mode('overwrite') \\\n",
    "            .save(write_path)"
   ]
  },
  {
   "cell_type": "code",
   "execution_count": 0,
   "metadata": {
    "application/vnd.databricks.v1+cell": {
     "cellMetadata": {},
     "inputWidgets": {},
     "nuid": "991853dc-785d-4e26-ab80-f2f8a3205612",
     "showTitle": false,
     "tableResultSettingsMap": {},
     "title": ""
    }
   },
   "outputs": [],
   "source": []
  }
 ],
 "metadata": {
  "application/vnd.databricks.v1+notebook": {
   "computePreferences": null,
   "dashboards": [],
   "environmentMetadata": {
    "base_environment": "",
    "environment_version": "2"
   },
   "inputWidgetPreferences": null,
   "language": "python",
   "notebookMetadata": {
    "pythonIndentUnit": 4
   },
   "notebookName": "Gold Notebook",
   "widgets": {}
  },
  "language_info": {
   "name": "python"
  }
 },
 "nbformat": 4,
 "nbformat_minor": 0
}