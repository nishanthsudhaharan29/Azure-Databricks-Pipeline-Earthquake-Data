{
 "cells": [
  {
   "cell_type": "code",
   "execution_count": 0,
   "metadata": {
    "application/vnd.databricks.v1+cell": {
     "cellMetadata": {},
     "inputWidgets": {},
     "nuid": "d61da16d-e8bc-485d-b79b-0b61d8e87f15",
     "showTitle": false,
     "tableResultSettingsMap": {},
     "title": ""
    }
   },
   "outputs": [],
   "source": [
    "# retrieve the task values from the previous task i.e., bronze notebook\n",
    "bronze_output = dbutils.jobs.taskValues.get(taskKey = 'bronze', key = 'bronze_output')\n",
    "# access individual parameters\n",
    "start_date = bronze_output.get('start_date', '')\n",
    "bronze_adls = bronze_output.get('bronze_adls', '')\n",
    "silver_adls = bronze_output.get('silver_adls', '')\n",
    "# print the retrieved values\n",
    "print(f\"Start Date: {start_date}\")\n",
    "print(f\"Bronze ADLS: {bronze_adls}\")\n",
    "print(f\"Silver ADLS: {silver_adls}\")"
   ]
  },
  {
   "cell_type": "code",
   "execution_count": 0,
   "metadata": {
    "application/vnd.databricks.v1+cell": {
     "cellMetadata": {
      "byteLimit": 2048000,
      "rowLimit": 10000
     },
     "inputWidgets": {},
     "nuid": "c28df8c2-5fec-4935-978d-bba1b8219dce",
     "showTitle": false,
     "tableResultSettingsMap": {},
     "title": ""
    }
   },
   "outputs": [],
   "source": [
    "from pyspark.sql.functions import *\n",
    "from pyspark.sql.types import *\n",
    "from datetime import date, timedelta"
   ]
  },
  {
   "cell_type": "code",
   "execution_count": 0,
   "metadata": {
    "application/vnd.databricks.v1+cell": {
     "cellMetadata": {
      "byteLimit": 2048000,
      "rowLimit": 10000
     },
     "inputWidgets": {},
     "nuid": "e6bbc1bc-2469-4a27-8ead-723d69885f37",
     "showTitle": false,
     "tableResultSettingsMap": {},
     "title": ""
    }
   },
   "outputs": [],
   "source": [
    "# read the JSON data frpm the bronze ADLS\n",
    "df = spark.read\\\n",
    "    .format('json')\\\n",
    "        .option('multiline', True)\\\n",
    "            .load(f\"{bronze_adls}/{start_date}_earthquake_data.json\")"
   ]
  },
  {
   "cell_type": "code",
   "execution_count": 0,
   "metadata": {
    "application/vnd.databricks.v1+cell": {
     "cellMetadata": {
      "byteLimit": 2048000,
      "rowLimit": 10000
     },
     "inputWidgets": {},
     "nuid": "9c3d89d9-e4b8-4253-a15f-84814898a7b5",
     "showTitle": false,
     "tableResultSettingsMap": {},
     "title": ""
    }
   },
   "outputs": [
    {
     "output_type": "stream",
     "name": "stdout",
     "output_type": "stream",
     "text": [
      "root\n |-- geometry: struct (nullable = true)\n |    |-- coordinates: array (nullable = true)\n |    |    |-- element: double (containsNull = true)\n |    |-- type: string (nullable = true)\n |-- id: string (nullable = true)\n |-- properties: struct (nullable = true)\n |    |-- alert: string (nullable = true)\n |    |-- cdi: double (nullable = true)\n |    |-- code: string (nullable = true)\n |    |-- detail: string (nullable = true)\n |    |-- dmin: double (nullable = true)\n |    |-- felt: long (nullable = true)\n |    |-- gap: double (nullable = true)\n |    |-- ids: string (nullable = true)\n |    |-- mag: double (nullable = true)\n |    |-- magType: string (nullable = true)\n |    |-- mmi: double (nullable = true)\n |    |-- net: string (nullable = true)\n |    |-- nst: long (nullable = true)\n |    |-- place: string (nullable = true)\n |    |-- rms: double (nullable = true)\n |    |-- sig: long (nullable = true)\n |    |-- sources: string (nullable = true)\n |    |-- status: string (nullable = true)\n |    |-- time: long (nullable = true)\n |    |-- title: string (nullable = true)\n |    |-- tsunami: long (nullable = true)\n |    |-- type: string (nullable = true)\n |    |-- types: string (nullable = true)\n |    |-- tz: string (nullable = true)\n |    |-- updated: long (nullable = true)\n |    |-- url: string (nullable = true)\n |-- type: string (nullable = true)\n\n"
     ]
    }
   ],
   "source": [
    "df.printSchema()"
   ]
  },
  {
   "cell_type": "code",
   "execution_count": 0,
   "metadata": {
    "application/vnd.databricks.v1+cell": {
     "cellMetadata": {
      "byteLimit": 2048000,
      "rowLimit": 10000
     },
     "inputWidgets": {},
     "nuid": "2695c765-5a6e-4368-ade2-4090f2c4c6a1",
     "showTitle": false,
     "tableResultSettingsMap": {},
     "title": ""
    }
   },
   "outputs": [
    {
     "output_type": "display_data",
     "data": {
      "text/html": [
       "<style scoped>\n",
       "  .table-result-container {\n",
       "    max-height: 300px;\n",
       "    overflow: auto;\n",
       "  }\n",
       "  table, th, td {\n",
       "    border: 1px solid black;\n",
       "    border-collapse: collapse;\n",
       "  }\n",
       "  th, td {\n",
       "    padding: 5px;\n",
       "  }\n",
       "  th {\n",
       "    text-align: left;\n",
       "  }\n",
       "</style><div class='table-result-container'><table class='table-result'><thead style='background-color: white'><tr><th>geometry</th><th>id</th><th>properties</th><th>type</th></tr></thead><tbody><tr><td>List(List(-116.4486667, 34.31, 8.73), Point)</td><td>ci41143408</td><td>List(null, null, 41143408, https://earthquake.usgs.gov/fdsnws/event/1/query?eventid=ci41143408&format=geojson, 0.05776, null, 70.0, ,ci41143408,, 1.15, ml, null, ci, 27, 22 km N of Yucca Valley, CA, 0.11, 20, ,ci,, reviewed, 1746229399520, M 1.2 - 22 km N of Yucca Valley, CA, 0, earthquake, ,nearby-cities,origin,phase-data,scitech-link,, null, 1746230479489, https://earthquake.usgs.gov/earthquakes/eventpage/ci41143408)</td><td>Feature</td></tr><tr><td>List(List(-152.9035, 60.3, 120.4), Point)</td><td>ak0255m5hvxv</td><td>List(null, null, 0255m5hvxv, https://earthquake.usgs.gov/fdsnws/event/1/query?eventid=ak0255m5hvxv&format=geojson, null, null, null, ,ak0255m5hvxv,, 1.6, ml, null, ak, null, 73 km WNW of Ninilchik, Alaska, 0.42, 39, ,ak,, automatic, 1746229201794, M 1.6 - 73 km WNW of Ninilchik, Alaska, 0, earthquake, ,origin,phase-data,, null, 1746229363527, https://earthquake.usgs.gov/earthquakes/eventpage/ak0255m5hvxv)</td><td>Feature</td></tr><tr><td>List(List(-150.5436, 60.5389, 13.8), Point)</td><td>ak0255m5cfgq</td><td>List(null, null, 0255m5cfgq, https://earthquake.usgs.gov/fdsnws/event/1/query?eventid=ak0255m5cfgq&format=geojson, null, null, null, ,ak0255m5cfgq,, 1.6, ml, null, ak, null, 12 km E of Sterling, Alaska, 0.46, 39, ,ak,, automatic, 1746227695463, M 1.6 - 12 km E of Sterling, Alaska, 0, earthquake, ,origin,phase-data,, null, 1746227819634, https://earthquake.usgs.gov/earthquakes/eventpage/ak0255m5cfgq)</td><td>Feature</td></tr><tr><td>List(List(-155.298833333333, 19.9691666666667, 31.0), Point)</td><td>hv74664712</td><td>List(null, 3.7, 74664712, https://earthquake.usgs.gov/fdsnws/event/1/query?eventid=hv74664712&format=geojson, 0.05899, 70, 147.0, ,hv74664712,us7000pwsp,, 3.58, ml, 3.301, hv, 62, 6 km WSW of Laupāhoehoe, Hawaii, 0.14, 223, ,hv,us,, reviewed, 1746226780400, M 3.6 - 6 km WSW of Laupāhoehoe, Hawaii, 0, earthquake, ,dyfi,origin,phase-data,shakemap,, null, 1746233571825, https://earthquake.usgs.gov/earthquakes/eventpage/hv74664712)</td><td>Feature</td></tr><tr><td>List(List(-150.5616, 60.546, 8.2), Point)</td><td>ak0255m4xbr6</td><td>List(null, null, 0255m4xbr6, https://earthquake.usgs.gov/fdsnws/event/1/query?eventid=ak0255m4xbr6&format=geojson, null, null, null, ,ak0255m4xbr6,, 1.7, ml, null, ak, null, 11 km E of Sterling, Alaska, 0.55, 44, ,ak,, automatic, 1746225848984, M 1.7 - 11 km E of Sterling, Alaska, 0, earthquake, ,origin,phase-data,, null, 1746225964534, https://earthquake.usgs.gov/earthquakes/eventpage/ak0255m4xbr6)</td><td>Feature</td></tr></tbody></table></div>"
      ]
     },
     "metadata": {
      "application/vnd.databricks.v1+output": {
       "addedWidgets": {},
       "aggData": [],
       "aggError": "",
       "aggOverflow": false,
       "aggSchema": [],
       "aggSeriesLimitReached": false,
       "aggType": "",
       "arguments": {},
       "columnCustomDisplayInfos": {},
       "data": [
        [
         [
          [
           -116.4486667,
           34.31,
           8.73
          ],
          "Point"
         ],
         "ci41143408",
         [
          null,
          null,
          "41143408",
          "https://earthquake.usgs.gov/fdsnws/event/1/query?eventid=ci41143408&format=geojson",
          0.05776,
          null,
          70.0,
          ",ci41143408,",
          1.15,
          "ml",
          null,
          "ci",
          27,
          "22 km N of Yucca Valley, CA",
          0.11,
          20,
          ",ci,",
          "reviewed",
          1746229399520,
          "M 1.2 - 22 km N of Yucca Valley, CA",
          0,
          "earthquake",
          ",nearby-cities,origin,phase-data,scitech-link,",
          null,
          1746230479489,
          "https://earthquake.usgs.gov/earthquakes/eventpage/ci41143408"
         ],
         "Feature"
        ],
        [
         [
          [
           -152.9035,
           60.3,
           120.4
          ],
          "Point"
         ],
         "ak0255m5hvxv",
         [
          null,
          null,
          "0255m5hvxv",
          "https://earthquake.usgs.gov/fdsnws/event/1/query?eventid=ak0255m5hvxv&format=geojson",
          null,
          null,
          null,
          ",ak0255m5hvxv,",
          1.6,
          "ml",
          null,
          "ak",
          null,
          "73 km WNW of Ninilchik, Alaska",
          0.42,
          39,
          ",ak,",
          "automatic",
          1746229201794,
          "M 1.6 - 73 km WNW of Ninilchik, Alaska",
          0,
          "earthquake",
          ",origin,phase-data,",
          null,
          1746229363527,
          "https://earthquake.usgs.gov/earthquakes/eventpage/ak0255m5hvxv"
         ],
         "Feature"
        ],
        [
         [
          [
           -150.5436,
           60.5389,
           13.8
          ],
          "Point"
         ],
         "ak0255m5cfgq",
         [
          null,
          null,
          "0255m5cfgq",
          "https://earthquake.usgs.gov/fdsnws/event/1/query?eventid=ak0255m5cfgq&format=geojson",
          null,
          null,
          null,
          ",ak0255m5cfgq,",
          1.6,
          "ml",
          null,
          "ak",
          null,
          "12 km E of Sterling, Alaska",
          0.46,
          39,
          ",ak,",
          "automatic",
          1746227695463,
          "M 1.6 - 12 km E of Sterling, Alaska",
          0,
          "earthquake",
          ",origin,phase-data,",
          null,
          1746227819634,
          "https://earthquake.usgs.gov/earthquakes/eventpage/ak0255m5cfgq"
         ],
         "Feature"
        ],
        [
         [
          [
           -155.298833333333,
           19.9691666666667,
           31.0
          ],
          "Point"
         ],
         "hv74664712",
         [
          null,
          3.7,
          "74664712",
          "https://earthquake.usgs.gov/fdsnws/event/1/query?eventid=hv74664712&format=geojson",
          0.05899,
          70,
          147.0,
          ",hv74664712,us7000pwsp,",
          3.58,
          "ml",
          3.301,
          "hv",
          62,
          "6 km WSW of Laupāhoehoe, Hawaii",
          0.14,
          223,
          ",hv,us,",
          "reviewed",
          1746226780400,
          "M 3.6 - 6 km WSW of Laupāhoehoe, Hawaii",
          0,
          "earthquake",
          ",dyfi,origin,phase-data,shakemap,",
          null,
          1746233571825,
          "https://earthquake.usgs.gov/earthquakes/eventpage/hv74664712"
         ],
         "Feature"
        ],
        [
         [
          [
           -150.5616,
           60.546,
           8.2
          ],
          "Point"
         ],
         "ak0255m4xbr6",
         [
          null,
          null,
          "0255m4xbr6",
          "https://earthquake.usgs.gov/fdsnws/event/1/query?eventid=ak0255m4xbr6&format=geojson",
          null,
          null,
          null,
          ",ak0255m4xbr6,",
          1.7,
          "ml",
          null,
          "ak",
          null,
          "11 km E of Sterling, Alaska",
          0.55,
          44,
          ",ak,",
          "automatic",
          1746225848984,
          "M 1.7 - 11 km E of Sterling, Alaska",
          0,
          "earthquake",
          ",origin,phase-data,",
          null,
          1746225964534,
          "https://earthquake.usgs.gov/earthquakes/eventpage/ak0255m4xbr6"
         ],
         "Feature"
        ]
       ],
       "datasetInfos": [],
       "dbfsResultPath": null,
       "isJsonSchema": true,
       "metadata": {},
       "overflow": false,
       "plotOptions": {
        "customPlotOptions": {},
        "displayType": "table",
        "pivotAggregation": null,
        "pivotColumns": null,
        "xColumns": null,
        "yColumns": null
       },
       "removedWidgets": [],
       "schema": [
        {
         "metadata": "{}",
         "name": "geometry",
         "type": "{\"type\":\"struct\",\"fields\":[{\"name\":\"coordinates\",\"type\":{\"type\":\"array\",\"elementType\":\"double\",\"containsNull\":true},\"nullable\":true,\"metadata\":{}},{\"name\":\"type\",\"type\":\"string\",\"nullable\":true,\"metadata\":{}}]}"
        },
        {
         "metadata": "{}",
         "name": "id",
         "type": "\"string\""
        },
        {
         "metadata": "{}",
         "name": "properties",
         "type": "{\"type\":\"struct\",\"fields\":[{\"name\":\"alert\",\"type\":\"string\",\"nullable\":true,\"metadata\":{}},{\"name\":\"cdi\",\"type\":\"double\",\"nullable\":true,\"metadata\":{}},{\"name\":\"code\",\"type\":\"string\",\"nullable\":true,\"metadata\":{}},{\"name\":\"detail\",\"type\":\"string\",\"nullable\":true,\"metadata\":{}},{\"name\":\"dmin\",\"type\":\"double\",\"nullable\":true,\"metadata\":{}},{\"name\":\"felt\",\"type\":\"long\",\"nullable\":true,\"metadata\":{}},{\"name\":\"gap\",\"type\":\"double\",\"nullable\":true,\"metadata\":{}},{\"name\":\"ids\",\"type\":\"string\",\"nullable\":true,\"metadata\":{}},{\"name\":\"mag\",\"type\":\"double\",\"nullable\":true,\"metadata\":{}},{\"name\":\"magType\",\"type\":\"string\",\"nullable\":true,\"metadata\":{}},{\"name\":\"mmi\",\"type\":\"double\",\"nullable\":true,\"metadata\":{}},{\"name\":\"net\",\"type\":\"string\",\"nullable\":true,\"metadata\":{}},{\"name\":\"nst\",\"type\":\"long\",\"nullable\":true,\"metadata\":{}},{\"name\":\"place\",\"type\":\"string\",\"nullable\":true,\"metadata\":{}},{\"name\":\"rms\",\"type\":\"double\",\"nullable\":true,\"metadata\":{}},{\"name\":\"sig\",\"type\":\"long\",\"nullable\":true,\"metadata\":{}},{\"name\":\"sources\",\"type\":\"string\",\"nullable\":true,\"metadata\":{}},{\"name\":\"status\",\"type\":\"string\",\"nullable\":true,\"metadata\":{}},{\"name\":\"time\",\"type\":\"long\",\"nullable\":true,\"metadata\":{}},{\"name\":\"title\",\"type\":\"string\",\"nullable\":true,\"metadata\":{}},{\"name\":\"tsunami\",\"type\":\"long\",\"nullable\":true,\"metadata\":{}},{\"name\":\"type\",\"type\":\"string\",\"nullable\":true,\"metadata\":{}},{\"name\":\"types\",\"type\":\"string\",\"nullable\":true,\"metadata\":{}},{\"name\":\"tz\",\"type\":\"string\",\"nullable\":true,\"metadata\":{}},{\"name\":\"updated\",\"type\":\"long\",\"nullable\":true,\"metadata\":{}},{\"name\":\"url\",\"type\":\"string\",\"nullable\":true,\"metadata\":{}}]}"
        },
        {
         "metadata": "{}",
         "name": "type",
         "type": "\"string\""
        }
       ],
       "type": "table"
      }
     },
     "output_type": "display_data"
    }
   ],
   "source": [
    "df.limit(5).display()"
   ]
  },
  {
   "cell_type": "code",
   "execution_count": 0,
   "metadata": {
    "application/vnd.databricks.v1+cell": {
     "cellMetadata": {
      "byteLimit": 2048000,
      "rowLimit": 10000
     },
     "inputWidgets": {},
     "nuid": "28fc5364-0df1-4b35-a064-143d80b8ad00",
     "showTitle": true,
     "tableResultSettingsMap": {},
     "title": "("
    }
   },
   "outputs": [],
   "source": [
    "# extract the columns as dictionaries into individual variables\n",
    "df = df.select(\n",
    "        'id',\n",
    "        col('geometry.coordinates').getItem(0).alias('longitude'),\n",
    "        col('geometry.coordinates').getItem(1).alias('latitude'),\n",
    "        col('geometry.coordinates').getItem(2).alias('elevation'),\n",
    "        col('properties.title').alias('title'),\n",
    "        col('properties.place').alias('place_description'),\n",
    "        col('properties.sig').alias('sig'),\n",
    "        col('properties.mag').alias('mag'),\n",
    "        col('properties.magType').alias('magType'),\n",
    "        col('properties.time').alias('time'),\n",
    "        col('properties.updated').alias('updated')\n",
    "    )"
   ]
  },
  {
   "cell_type": "code",
   "execution_count": 0,
   "metadata": {
    "application/vnd.databricks.v1+cell": {
     "cellMetadata": {
      "byteLimit": 2048000,
      "rowLimit": 10000
     },
     "inputWidgets": {},
     "nuid": "c4fe2f5f-4032-4bcd-8c4f-22bdf6767a31",
     "showTitle": false,
     "tableResultSettingsMap": {},
     "title": ""
    }
   },
   "outputs": [
    {
     "output_type": "stream",
     "name": "stdout",
     "output_type": "stream",
     "text": [
      "root\n |-- id: string (nullable = true)\n |-- longitude: double (nullable = true)\n |-- latitude: double (nullable = true)\n |-- elevation: double (nullable = true)\n |-- title: string (nullable = true)\n |-- place_description: string (nullable = true)\n |-- sig: long (nullable = true)\n |-- mag: double (nullable = true)\n |-- magType: string (nullable = true)\n |-- time: long (nullable = true)\n |-- updated: long (nullable = true)\n\n"
     ]
    }
   ],
   "source": [
    "df.printSchema()"
   ]
  },
  {
   "cell_type": "code",
   "execution_count": 0,
   "metadata": {
    "application/vnd.databricks.v1+cell": {
     "cellMetadata": {
      "byteLimit": 2048000,
      "rowLimit": 10000
     },
     "inputWidgets": {},
     "nuid": "d8bb4030-3a14-4bf3-abf9-9b0a233727b8",
     "showTitle": false,
     "tableResultSettingsMap": {},
     "title": ""
    }
   },
   "outputs": [
    {
     "output_type": "display_data",
     "data": {
      "text/html": [
       "<style scoped>\n",
       "  .table-result-container {\n",
       "    max-height: 300px;\n",
       "    overflow: auto;\n",
       "  }\n",
       "  table, th, td {\n",
       "    border: 1px solid black;\n",
       "    border-collapse: collapse;\n",
       "  }\n",
       "  th, td {\n",
       "    padding: 5px;\n",
       "  }\n",
       "  th {\n",
       "    text-align: left;\n",
       "  }\n",
       "</style><div class='table-result-container'><table class='table-result'><thead style='background-color: white'><tr><th>id</th><th>longitude</th><th>latitude</th><th>elevation</th><th>title</th><th>place_description</th><th>sig</th><th>mag</th><th>magType</th><th>time</th><th>updated</th></tr></thead><tbody><tr><td>ci41143408</td><td>-116.4486667</td><td>34.31</td><td>8.73</td><td>M 1.2 - 22 km N of Yucca Valley, CA</td><td>22 km N of Yucca Valley, CA</td><td>20</td><td>1.15</td><td>ml</td><td>1746229399520</td><td>1746230479489</td></tr><tr><td>ak0255m5hvxv</td><td>-152.9035</td><td>60.3</td><td>120.4</td><td>M 1.6 - 73 km WNW of Ninilchik, Alaska</td><td>73 km WNW of Ninilchik, Alaska</td><td>39</td><td>1.6</td><td>ml</td><td>1746229201794</td><td>1746229363527</td></tr><tr><td>ak0255m5cfgq</td><td>-150.5436</td><td>60.5389</td><td>13.8</td><td>M 1.6 - 12 km E of Sterling, Alaska</td><td>12 km E of Sterling, Alaska</td><td>39</td><td>1.6</td><td>ml</td><td>1746227695463</td><td>1746227819634</td></tr><tr><td>hv74664712</td><td>-155.298833333333</td><td>19.9691666666667</td><td>31.0</td><td>M 3.6 - 6 km WSW of Laupāhoehoe, Hawaii</td><td>6 km WSW of Laupāhoehoe, Hawaii</td><td>223</td><td>3.58</td><td>ml</td><td>1746226780400</td><td>1746233571825</td></tr><tr><td>ak0255m4xbr6</td><td>-150.5616</td><td>60.546</td><td>8.2</td><td>M 1.7 - 11 km E of Sterling, Alaska</td><td>11 km E of Sterling, Alaska</td><td>44</td><td>1.7</td><td>ml</td><td>1746225848984</td><td>1746225964534</td></tr></tbody></table></div>"
      ]
     },
     "metadata": {
      "application/vnd.databricks.v1+output": {
       "addedWidgets": {},
       "aggData": [],
       "aggError": "",
       "aggOverflow": false,
       "aggSchema": [],
       "aggSeriesLimitReached": false,
       "aggType": "",
       "arguments": {},
       "columnCustomDisplayInfos": {},
       "data": [
        [
         "ci41143408",
         -116.4486667,
         34.31,
         8.73,
         "M 1.2 - 22 km N of Yucca Valley, CA",
         "22 km N of Yucca Valley, CA",
         20,
         1.15,
         "ml",
         1746229399520,
         1746230479489
        ],
        [
         "ak0255m5hvxv",
         -152.9035,
         60.3,
         120.4,
         "M 1.6 - 73 km WNW of Ninilchik, Alaska",
         "73 km WNW of Ninilchik, Alaska",
         39,
         1.6,
         "ml",
         1746229201794,
         1746229363527
        ],
        [
         "ak0255m5cfgq",
         -150.5436,
         60.5389,
         13.8,
         "M 1.6 - 12 km E of Sterling, Alaska",
         "12 km E of Sterling, Alaska",
         39,
         1.6,
         "ml",
         1746227695463,
         1746227819634
        ],
        [
         "hv74664712",
         -155.298833333333,
         19.9691666666667,
         31.0,
         "M 3.6 - 6 km WSW of Laupāhoehoe, Hawaii",
         "6 km WSW of Laupāhoehoe, Hawaii",
         223,
         3.58,
         "ml",
         1746226780400,
         1746233571825
        ],
        [
         "ak0255m4xbr6",
         -150.5616,
         60.546,
         8.2,
         "M 1.7 - 11 km E of Sterling, Alaska",
         "11 km E of Sterling, Alaska",
         44,
         1.7,
         "ml",
         1746225848984,
         1746225964534
        ]
       ],
       "datasetInfos": [],
       "dbfsResultPath": null,
       "isJsonSchema": true,
       "metadata": {},
       "overflow": false,
       "plotOptions": {
        "customPlotOptions": {},
        "displayType": "table",
        "pivotAggregation": null,
        "pivotColumns": null,
        "xColumns": null,
        "yColumns": null
       },
       "removedWidgets": [],
       "schema": [
        {
         "metadata": "{}",
         "name": "id",
         "type": "\"string\""
        },
        {
         "metadata": "{}",
         "name": "longitude",
         "type": "\"double\""
        },
        {
         "metadata": "{}",
         "name": "latitude",
         "type": "\"double\""
        },
        {
         "metadata": "{}",
         "name": "elevation",
         "type": "\"double\""
        },
        {
         "metadata": "{}",
         "name": "title",
         "type": "\"string\""
        },
        {
         "metadata": "{}",
         "name": "place_description",
         "type": "\"string\""
        },
        {
         "metadata": "{}",
         "name": "sig",
         "type": "\"long\""
        },
        {
         "metadata": "{}",
         "name": "mag",
         "type": "\"double\""
        },
        {
         "metadata": "{}",
         "name": "magType",
         "type": "\"string\""
        },
        {
         "metadata": "{}",
         "name": "time",
         "type": "\"long\""
        },
        {
         "metadata": "{}",
         "name": "updated",
         "type": "\"long\""
        }
       ],
       "type": "table"
      }
     },
     "output_type": "display_data"
    }
   ],
   "source": [
    "df.limit(5).display()"
   ]
  },
  {
   "cell_type": "code",
   "execution_count": 0,
   "metadata": {
    "application/vnd.databricks.v1+cell": {
     "cellMetadata": {
      "byteLimit": 2048000,
      "rowLimit": 10000
     },
     "inputWidgets": {},
     "nuid": "05c4ec8e-8a3c-4fa7-99d2-b94fb4aff7d4",
     "showTitle": false,
     "tableResultSettingsMap": {},
     "title": ""
    }
   },
   "outputs": [],
   "source": [
    "# in this data, null latitude, null longitude, null elevation can be filled as 0 lat, 0lon, 0 elevation respectively\n",
    "df = df.withColumn('longitude', when(col('longitude').isNull(), 0).otherwise(col('longitude')))\\\n",
    "    .withColumn('latitude', when(col('latitude').isNull(), 0).otherwise(col('latitude')))\\\n",
    "        .withColumn('elevation', when(col('elevation').isNull(), 0).otherwise(col('elevation')))"
   ]
  },
  {
   "cell_type": "code",
   "execution_count": 0,
   "metadata": {
    "application/vnd.databricks.v1+cell": {
     "cellMetadata": {
      "byteLimit": 2048000,
      "rowLimit": 10000
     },
     "inputWidgets": {},
     "nuid": "fe334734-e6a1-4adb-909d-f7ff31703304",
     "showTitle": false,
     "tableResultSettingsMap": {},
     "title": ""
    }
   },
   "outputs": [],
   "source": [
    "# change the columns 'time' and 'updated' from unix time to timestamp\n",
    "df = df.withColumn('time', (col('time')/1000).cast(TimestampType()))\\\n",
    "    .withColumn('updated', (col('updated')/1000).cast(TimestampType()))"
   ]
  },
  {
   "cell_type": "code",
   "execution_count": 0,
   "metadata": {
    "application/vnd.databricks.v1+cell": {
     "cellMetadata": {
      "byteLimit": 2048000,
      "rowLimit": 10000
     },
     "inputWidgets": {},
     "nuid": "8e3857b6-6a96-49ee-bdd2-ecd4aec1d9db",
     "showTitle": false,
     "tableResultSettingsMap": {},
     "title": ""
    }
   },
   "outputs": [],
   "source": [
    "# write the data to the silver ADLS\n",
    "write_path = f\"{silver_adls}/{start_date}_earthquake_events\"\n",
    "df.write\\\n",
    "    .format('parquet')\\\n",
    "        .mode('overwrite')\\\n",
    "            .save(write_path)"
   ]
  },
  {
   "cell_type": "code",
   "execution_count": 0,
   "metadata": {
    "application/vnd.databricks.v1+cell": {
     "cellMetadata": {
      "byteLimit": 2048000,
      "rowLimit": 10000
     },
     "inputWidgets": {},
     "nuid": "19b42e6d-2a21-4925-8146-3115cc83e093",
     "showTitle": false,
     "tableResultSettingsMap": {},
     "title": ""
    }
   },
   "outputs": [],
   "source": [
    "# define the output variables\n",
    "dbutils.jobs.taskValues.set(key = 'silver_output', value = write_path)"
   ]
  },
  {
   "cell_type": "code",
   "execution_count": 0,
   "metadata": {
    "application/vnd.databricks.v1+cell": {
     "cellMetadata": {},
     "inputWidgets": {},
     "nuid": "bf085c54-f552-4171-87e2-0bbf06ca99e4",
     "showTitle": false,
     "tableResultSettingsMap": {},
     "title": ""
    }
   },
   "outputs": [],
   "source": []
  }
 ],
 "metadata": {
  "application/vnd.databricks.v1+notebook": {
   "computePreferences": null,
   "dashboards": [],
   "environmentMetadata": {
    "base_environment": "",
    "environment_version": "2"
   },
   "inputWidgetPreferences": null,
   "language": "python",
   "notebookMetadata": {
    "pythonIndentUnit": 4
   },
   "notebookName": "Silver Notebook",
   "widgets": {}
  },
  "language_info": {
   "name": "python"
  }
 },
 "nbformat": 4,
 "nbformat_minor": 0
}